{
 "cells": [
  {
   "cell_type": "code",
   "execution_count": 1,
   "metadata": {},
   "outputs": [],
   "source": [
    "from gazpacho import Soup\n",
    "import pandas as pd\n",
    "from selenium.webdriver import Firefox\n",
    "from selenium.webdriver.firefox.options import Options\n",
    "from selenium.webdriver.support.ui import Select"
   ]
  },
  {
   "cell_type": "code",
   "execution_count": 2,
   "metadata": {},
   "outputs": [],
   "source": [
    "options = Options()\n",
    "options.headless = True"
   ]
  },
  {
   "cell_type": "markdown",
   "metadata": {},
   "source": [
    "Binder/Laptop Configuration for Selenium:"
   ]
  },
  {
   "cell_type": "code",
   "execution_count": 3,
   "metadata": {},
   "outputs": [],
   "source": [
    "binder = True"
   ]
  },
  {
   "cell_type": "code",
   "execution_count": 4,
   "metadata": {},
   "outputs": [],
   "source": [
    "if binder:\n",
    "    from webdriverdownloader import GeckoDriverDownloader\n",
    "    gdd = GeckoDriverDownloader()\n",
    "    gdd.download_and_install(\"v0.26.0\")\n",
    "    browser = Firefox(executable_path='/home/jovyan/bin/geckodriver', options=options)\n",
    "else:\n",
    "    browser = Firefox(executable_path='/usr/local/bin/geckodriver', options=options)"
   ]
  },
  {
   "cell_type": "markdown",
   "metadata": {},
   "source": [
    "Okay!"
   ]
  },
  {
   "cell_type": "code",
   "execution_count": 6,
   "metadata": {},
   "outputs": [],
   "source": [
    "url = \"https://scrape.world/season\"\n",
    "browser.get(url)"
   ]
  },
  {
   "cell_type": "markdown",
   "metadata": {},
   "source": [
    "#### Login"
   ]
  },
  {
   "cell_type": "code",
   "execution_count": 7,
   "metadata": {},
   "outputs": [],
   "source": [
    "username = browser.find_element_by_id(\"username\")\n",
    "username.clear()\n",
    "username.send_keys(\"admin\")\n",
    "\n",
    "password = browser.find_element_by_name(\"password\")\n",
    "password.clear()\n",
    "password.send_keys(\"admin\")\n",
    "\n",
    "browser.find_element_by_xpath(\"/html/body/div/div/form/div/input[3]\").click()"
   ]
  },
  {
   "cell_type": "code",
   "execution_count": 8,
   "metadata": {},
   "outputs": [],
   "source": [
    "browser.get(url)\n",
    "html = browser.page_source\n",
    "soup = Soup(html)"
   ]
  },
  {
   "cell_type": "code",
   "execution_count": 9,
   "metadata": {},
   "outputs": [
    {
     "data": {
      "text/plain": [
       "'ata-tip=\"Average points in simulated seasons\">PTS</th>\\n        </tr>\\n    </thead>\\n    <tbody>\\n        <tr class=\"no_ranker partial_table\">\\n            <td colspan=\"18\"><strong>Atlantic Division</strong></td>\\n        </tr>\\n        <tr>\\n            <th scope=\"row\" class=\"right \" data-stat=\"ranker\" csk=\"1\">1</th>\\n            <td class=\"left \" data-stat=\"team_name\" csk=\"111.6\">Boston Kodiaks</td>\\n            <td class=\"right \" data-stat=\"wins_avg\">48.5</td>\\n            <td class=\"right \" data-stat=\"losses_avg\">18.8</td>\\n            <td class=\"right \" data-stat=\"losses_ot_avg\">14.7</td>\\n            <td class=\"right \" data-stat=\"points_avg\">111.6</td>\\n        </tr>\\n        <tr>\\n            <th scope=\"row\" class=\"right \" data-stat=\"ranker\" csk=\"2\">2</th>\\n            <td class=\"left \" data-stat=\"team_name\" csk=\"108.1\">Tampa Bay Thunder</td>\\n            <td class=\"right \" data-stat=\"wins_avg\">50.2</td>\\n            <td class=\"right \" data-stat=\"losses_avg\">24.1</td>\\n            <td class=\"right '"
      ]
     },
     "execution_count": 9,
     "metadata": {},
     "output_type": "execute_result"
    }
   ],
   "source": [
    "str(soup)[4000:5000]"
   ]
  },
  {
   "cell_type": "code",
   "execution_count": 10,
   "metadata": {},
   "outputs": [],
   "source": [
    "tables = pd.read_html(browser.page_source)"
   ]
  },
  {
   "cell_type": "code",
   "execution_count": 11,
   "metadata": {},
   "outputs": [],
   "source": [
    "east = tables[0]\n",
    "west = tables[1]"
   ]
  },
  {
   "cell_type": "code",
   "execution_count": 12,
   "metadata": {},
   "outputs": [
    {
     "data": {
      "text/html": [
       "<div>\n",
       "<style scoped>\n",
       "    .dataframe tbody tr th:only-of-type {\n",
       "        vertical-align: middle;\n",
       "    }\n",
       "\n",
       "    .dataframe tbody tr th {\n",
       "        vertical-align: top;\n",
       "    }\n",
       "\n",
       "    .dataframe thead th {\n",
       "        text-align: right;\n",
       "    }\n",
       "</style>\n",
       "<table border=\"1\" class=\"dataframe\">\n",
       "  <thead>\n",
       "    <tr style=\"text-align: right;\">\n",
       "      <th></th>\n",
       "      <th>Rk</th>\n",
       "      <th>Team</th>\n",
       "      <th>W</th>\n",
       "      <th>L</th>\n",
       "      <th>OL</th>\n",
       "      <th>PTS</th>\n",
       "      <th>Unnamed: 6</th>\n",
       "      <th>Unnamed: 7</th>\n",
       "      <th>Unnamed: 8</th>\n",
       "      <th>Unnamed: 9</th>\n",
       "      <th>Unnamed: 10</th>\n",
       "      <th>Unnamed: 11</th>\n",
       "      <th>Unnamed: 12</th>\n",
       "      <th>Unnamed: 13</th>\n",
       "      <th>Unnamed: 14</th>\n",
       "      <th>Unnamed: 15</th>\n",
       "      <th>Unnamed: 16</th>\n",
       "      <th>Unnamed: 17</th>\n",
       "    </tr>\n",
       "  </thead>\n",
       "  <tbody>\n",
       "    <tr>\n",
       "      <th>0</th>\n",
       "      <td>Atlantic Division</td>\n",
       "      <td>Atlantic Division</td>\n",
       "      <td>Atlantic Division</td>\n",
       "      <td>Atlantic Division</td>\n",
       "      <td>Atlantic Division</td>\n",
       "      <td>Atlantic Division</td>\n",
       "      <td>Atlantic Division</td>\n",
       "      <td>Atlantic Division</td>\n",
       "      <td>Atlantic Division</td>\n",
       "      <td>Atlantic Division</td>\n",
       "      <td>Atlantic Division</td>\n",
       "      <td>Atlantic Division</td>\n",
       "      <td>Atlantic Division</td>\n",
       "      <td>Atlantic Division</td>\n",
       "      <td>Atlantic Division</td>\n",
       "      <td>Atlantic Division</td>\n",
       "      <td>Atlantic Division</td>\n",
       "      <td>Atlantic Division</td>\n",
       "    </tr>\n",
       "    <tr>\n",
       "      <th>1</th>\n",
       "      <td>1</td>\n",
       "      <td>Boston Kodiaks</td>\n",
       "      <td>48.5</td>\n",
       "      <td>18.8</td>\n",
       "      <td>14.7</td>\n",
       "      <td>111.6</td>\n",
       "      <td>NaN</td>\n",
       "      <td>NaN</td>\n",
       "      <td>NaN</td>\n",
       "      <td>NaN</td>\n",
       "      <td>NaN</td>\n",
       "      <td>NaN</td>\n",
       "      <td>NaN</td>\n",
       "      <td>NaN</td>\n",
       "      <td>NaN</td>\n",
       "      <td>NaN</td>\n",
       "      <td>NaN</td>\n",
       "      <td>NaN</td>\n",
       "    </tr>\n",
       "    <tr>\n",
       "      <th>2</th>\n",
       "      <td>2</td>\n",
       "      <td>Tampa Bay Thunder</td>\n",
       "      <td>50.2</td>\n",
       "      <td>24.1</td>\n",
       "      <td>7.7</td>\n",
       "      <td>108.1</td>\n",
       "      <td>NaN</td>\n",
       "      <td>NaN</td>\n",
       "      <td>NaN</td>\n",
       "      <td>NaN</td>\n",
       "      <td>NaN</td>\n",
       "      <td>NaN</td>\n",
       "      <td>NaN</td>\n",
       "      <td>NaN</td>\n",
       "      <td>NaN</td>\n",
       "      <td>NaN</td>\n",
       "      <td>NaN</td>\n",
       "      <td>NaN</td>\n",
       "    </tr>\n",
       "    <tr>\n",
       "      <th>3</th>\n",
       "      <td>3</td>\n",
       "      <td>Florida Jaguars</td>\n",
       "      <td>44.5</td>\n",
       "      <td>28.3</td>\n",
       "      <td>9.2</td>\n",
       "      <td>98.2</td>\n",
       "      <td>NaN</td>\n",
       "      <td>NaN</td>\n",
       "      <td>NaN</td>\n",
       "      <td>NaN</td>\n",
       "      <td>NaN</td>\n",
       "      <td>NaN</td>\n",
       "      <td>NaN</td>\n",
       "      <td>NaN</td>\n",
       "      <td>NaN</td>\n",
       "      <td>NaN</td>\n",
       "      <td>NaN</td>\n",
       "      <td>NaN</td>\n",
       "    </tr>\n",
       "    <tr>\n",
       "      <th>4</th>\n",
       "      <td>NaN</td>\n",
       "      <td>NaN</td>\n",
       "      <td>NaN</td>\n",
       "      <td>NaN</td>\n",
       "      <td>NaN</td>\n",
       "      <td>NaN</td>\n",
       "      <td>NaN</td>\n",
       "      <td>NaN</td>\n",
       "      <td>NaN</td>\n",
       "      <td>NaN</td>\n",
       "      <td>NaN</td>\n",
       "      <td>NaN</td>\n",
       "      <td>NaN</td>\n",
       "      <td>NaN</td>\n",
       "      <td>NaN</td>\n",
       "      <td>NaN</td>\n",
       "      <td>NaN</td>\n",
       "      <td>NaN</td>\n",
       "    </tr>\n",
       "  </tbody>\n",
       "</table>\n",
       "</div>"
      ],
      "text/plain": [
       "                  Rk               Team                  W                  L  \\\n",
       "0  Atlantic Division  Atlantic Division  Atlantic Division  Atlantic Division   \n",
       "1                  1     Boston Kodiaks               48.5               18.8   \n",
       "2                  2  Tampa Bay Thunder               50.2               24.1   \n",
       "3                  3    Florida Jaguars               44.5               28.3   \n",
       "4                NaN                NaN                NaN                NaN   \n",
       "\n",
       "                  OL                PTS         Unnamed: 6         Unnamed: 7  \\\n",
       "0  Atlantic Division  Atlantic Division  Atlantic Division  Atlantic Division   \n",
       "1               14.7              111.6                NaN                NaN   \n",
       "2                7.7              108.1                NaN                NaN   \n",
       "3                9.2               98.2                NaN                NaN   \n",
       "4                NaN                NaN                NaN                NaN   \n",
       "\n",
       "          Unnamed: 8         Unnamed: 9        Unnamed: 10        Unnamed: 11  \\\n",
       "0  Atlantic Division  Atlantic Division  Atlantic Division  Atlantic Division   \n",
       "1                NaN                NaN                NaN                NaN   \n",
       "2                NaN                NaN                NaN                NaN   \n",
       "3                NaN                NaN                NaN                NaN   \n",
       "4                NaN                NaN                NaN                NaN   \n",
       "\n",
       "         Unnamed: 12        Unnamed: 13        Unnamed: 14        Unnamed: 15  \\\n",
       "0  Atlantic Division  Atlantic Division  Atlantic Division  Atlantic Division   \n",
       "1                NaN                NaN                NaN                NaN   \n",
       "2                NaN                NaN                NaN                NaN   \n",
       "3                NaN                NaN                NaN                NaN   \n",
       "4                NaN                NaN                NaN                NaN   \n",
       "\n",
       "         Unnamed: 16        Unnamed: 17  \n",
       "0  Atlantic Division  Atlantic Division  \n",
       "1                NaN                NaN  \n",
       "2                NaN                NaN  \n",
       "3                NaN                NaN  \n",
       "4                NaN                NaN  "
      ]
     },
     "execution_count": 12,
     "metadata": {},
     "output_type": "execute_result"
    }
   ],
   "source": [
    "east.head()"
   ]
  },
  {
   "cell_type": "code",
   "execution_count": 13,
   "metadata": {},
   "outputs": [],
   "source": [
    "df = pd.concat([east, west], axis=0)\n",
    "df[\"W\"] = df[\"W\"].apply(pd.to_numeric, errors=\"coerce\")\n",
    "df = df.dropna(subset=[\"W\"])\n",
    "df = df[[\"Team\", \"W\"]]\n",
    "df = df.rename(columns={\"Team\": \"team\", \"W\": \"wins\"})\n",
    "df = df.sort_values(\"wins\", ascending=False)"
   ]
  },
  {
   "cell_type": "code",
   "execution_count": 14,
   "metadata": {},
   "outputs": [
    {
     "data": {
      "text/html": [
       "<div>\n",
       "<style scoped>\n",
       "    .dataframe tbody tr th:only-of-type {\n",
       "        vertical-align: middle;\n",
       "    }\n",
       "\n",
       "    .dataframe tbody tr th {\n",
       "        vertical-align: top;\n",
       "    }\n",
       "\n",
       "    .dataframe thead th {\n",
       "        text-align: right;\n",
       "    }\n",
       "</style>\n",
       "<table border=\"1\" class=\"dataframe\">\n",
       "  <thead>\n",
       "    <tr style=\"text-align: right;\">\n",
       "      <th></th>\n",
       "      <th>team</th>\n",
       "      <th>wins</th>\n",
       "    </tr>\n",
       "  </thead>\n",
       "  <tbody>\n",
       "    <tr>\n",
       "      <th>17</th>\n",
       "      <td>Anaheim Mallards</td>\n",
       "      <td>35.1</td>\n",
       "    </tr>\n",
       "    <tr>\n",
       "      <th>19</th>\n",
       "      <td>New Jersey Demons</td>\n",
       "      <td>31.9</td>\n",
       "    </tr>\n",
       "    <tr>\n",
       "      <th>18</th>\n",
       "      <td>Los Angeles Monarchs</td>\n",
       "      <td>31.0</td>\n",
       "    </tr>\n",
       "    <tr>\n",
       "      <th>8</th>\n",
       "      <td>Ottawa Legislators</td>\n",
       "      <td>29.9</td>\n",
       "    </tr>\n",
       "    <tr>\n",
       "      <th>9</th>\n",
       "      <td>Detroit Carmine Feathers</td>\n",
       "      <td>21.7</td>\n",
       "    </tr>\n",
       "  </tbody>\n",
       "</table>\n",
       "</div>"
      ],
      "text/plain": [
       "                        team  wins\n",
       "17          Anaheim Mallards  35.1\n",
       "19         New Jersey Demons  31.9\n",
       "18      Los Angeles Monarchs  31.0\n",
       "8         Ottawa Legislators  29.9\n",
       "9   Detroit Carmine Feathers  21.7"
      ]
     },
     "execution_count": 14,
     "metadata": {},
     "output_type": "execute_result"
    }
   ],
   "source": [
    "df.tail()"
   ]
  },
  {
   "cell_type": "markdown",
   "metadata": {},
   "source": [
    "#### JavaScript"
   ]
  },
  {
   "cell_type": "code",
   "execution_count": 15,
   "metadata": {},
   "outputs": [],
   "source": [
    "url = \"https://scrape.world/results\"\n",
    "browser.get(url)"
   ]
  },
  {
   "cell_type": "code",
   "execution_count": 16,
   "metadata": {},
   "outputs": [],
   "source": [
    "search = browser.find_element_by_xpath(\"/html/body/div/div/div[2]/div[2]/label/input\")\n",
    "search.clear()\n",
    "search.send_keys(\"toronto\")"
   ]
  },
  {
   "cell_type": "code",
   "execution_count": 17,
   "metadata": {},
   "outputs": [],
   "source": [
    "drop_down = Select(\n",
    "    browser.find_element_by_xpath(\"/html/body/div/div/div[2]/div[1]/label/select\")\n",
    ")\n",
    "drop_down.select_by_visible_text(\"100\")"
   ]
  },
  {
   "cell_type": "code",
   "execution_count": 18,
   "metadata": {},
   "outputs": [],
   "source": [
    "html = browser.page_source\n",
    "soup = Soup(html)\n",
    "df = pd.read_html(str(soup.find(\"table\")))[0]"
   ]
  },
  {
   "cell_type": "code",
   "execution_count": 19,
   "metadata": {},
   "outputs": [
    {
     "data": {
      "text/html": [
       "<div>\n",
       "<style scoped>\n",
       "    .dataframe tbody tr th:only-of-type {\n",
       "        vertical-align: middle;\n",
       "    }\n",
       "\n",
       "    .dataframe tbody tr th {\n",
       "        vertical-align: top;\n",
       "    }\n",
       "\n",
       "    .dataframe thead th {\n",
       "        text-align: right;\n",
       "    }\n",
       "</style>\n",
       "<table border=\"1\" class=\"dataframe\">\n",
       "  <thead>\n",
       "    <tr style=\"text-align: right;\">\n",
       "      <th></th>\n",
       "      <th>day</th>\n",
       "      <th>away</th>\n",
       "      <th>goals_away</th>\n",
       "      <th>home</th>\n",
       "      <th>goals_home</th>\n",
       "      <th>extra_time_loss</th>\n",
       "    </tr>\n",
       "  </thead>\n",
       "  <tbody>\n",
       "    <tr>\n",
       "      <th>48</th>\n",
       "      <td>109</td>\n",
       "      <td>Chicago Greyfalcons</td>\n",
       "      <td>6</td>\n",
       "      <td>Toronto Pine Needles</td>\n",
       "      <td>2</td>\n",
       "      <td>0</td>\n",
       "    </tr>\n",
       "    <tr>\n",
       "      <th>49</th>\n",
       "      <td>118</td>\n",
       "      <td>Toronto Pine Needles</td>\n",
       "      <td>5</td>\n",
       "      <td>Nashville Carnivores</td>\n",
       "      <td>2</td>\n",
       "      <td>0</td>\n",
       "    </tr>\n",
       "    <tr>\n",
       "      <th>50</th>\n",
       "      <td>120</td>\n",
       "      <td>Toronto Pine Needles</td>\n",
       "      <td>5</td>\n",
       "      <td>Dallas Celebrities</td>\n",
       "      <td>3</td>\n",
       "      <td>0</td>\n",
       "    </tr>\n",
       "    <tr>\n",
       "      <th>51</th>\n",
       "      <td>123</td>\n",
       "      <td>Ottawa Legislators</td>\n",
       "      <td>1</td>\n",
       "      <td>Toronto Pine Needles</td>\n",
       "      <td>2</td>\n",
       "      <td>1</td>\n",
       "    </tr>\n",
       "    <tr>\n",
       "      <th>52</th>\n",
       "      <td>125</td>\n",
       "      <td>Florida Jaguars</td>\n",
       "      <td>5</td>\n",
       "      <td>Toronto Pine Needles</td>\n",
       "      <td>3</td>\n",
       "      <td>0</td>\n",
       "    </tr>\n",
       "    <tr>\n",
       "      <th>53</th>\n",
       "      <td>127</td>\n",
       "      <td>Toronto Pine Needles</td>\n",
       "      <td>3</td>\n",
       "      <td>New York Officials</td>\n",
       "      <td>5</td>\n",
       "      <td>0</td>\n",
       "    </tr>\n",
       "    <tr>\n",
       "      <th>54</th>\n",
       "      <td>129</td>\n",
       "      <td>Anaheim Mallards</td>\n",
       "      <td>4</td>\n",
       "      <td>Toronto Pine Needles</td>\n",
       "      <td>5</td>\n",
       "      <td>1</td>\n",
       "    </tr>\n",
       "    <tr>\n",
       "      <th>55</th>\n",
       "      <td>130</td>\n",
       "      <td>Toronto Pine Needles</td>\n",
       "      <td>1</td>\n",
       "      <td>Montreal Quebecers</td>\n",
       "      <td>2</td>\n",
       "      <td>1</td>\n",
       "    </tr>\n",
       "    <tr>\n",
       "      <th>56</th>\n",
       "      <td>133</td>\n",
       "      <td>Arizona Dingos</td>\n",
       "      <td>2</td>\n",
       "      <td>Toronto Pine Needles</td>\n",
       "      <td>3</td>\n",
       "      <td>1</td>\n",
       "    </tr>\n",
       "    <tr>\n",
       "      <th>57</th>\n",
       "      <td>135</td>\n",
       "      <td>Dallas Celebrities</td>\n",
       "      <td>3</td>\n",
       "      <td>Toronto Pine Needles</td>\n",
       "      <td>2</td>\n",
       "      <td>0</td>\n",
       "    </tr>\n",
       "  </tbody>\n",
       "</table>\n",
       "</div>"
      ],
      "text/plain": [
       "    day                  away  goals_away                  home  goals_home  \\\n",
       "48  109   Chicago Greyfalcons           6  Toronto Pine Needles           2   \n",
       "49  118  Toronto Pine Needles           5  Nashville Carnivores           2   \n",
       "50  120  Toronto Pine Needles           5    Dallas Celebrities           3   \n",
       "51  123    Ottawa Legislators           1  Toronto Pine Needles           2   \n",
       "52  125       Florida Jaguars           5  Toronto Pine Needles           3   \n",
       "53  127  Toronto Pine Needles           3    New York Officials           5   \n",
       "54  129      Anaheim Mallards           4  Toronto Pine Needles           5   \n",
       "55  130  Toronto Pine Needles           1    Montreal Quebecers           2   \n",
       "56  133        Arizona Dingos           2  Toronto Pine Needles           3   \n",
       "57  135    Dallas Celebrities           3  Toronto Pine Needles           2   \n",
       "\n",
       "    extra_time_loss  \n",
       "48                0  \n",
       "49                0  \n",
       "50                0  \n",
       "51                1  \n",
       "52                0  \n",
       "53                0  \n",
       "54                1  \n",
       "55                1  \n",
       "56                1  \n",
       "57                0  "
      ]
     },
     "execution_count": 19,
     "metadata": {},
     "output_type": "execute_result"
    }
   ],
   "source": [
    "df.tail(10)"
   ]
  }
 ],
 "metadata": {
  "kernelspec": {
   "display_name": "Python 3",
   "language": "python",
   "name": "python3"
  },
  "language_info": {
   "codemirror_mode": {
    "name": "ipython",
    "version": 3
   },
   "file_extension": ".py",
   "mimetype": "text/x-python",
   "name": "python",
   "nbconvert_exporter": "python",
   "pygments_lexer": "ipython3",
   "version": "3.8.3"
  }
 },
 "nbformat": 4,
 "nbformat_minor": 2
}
