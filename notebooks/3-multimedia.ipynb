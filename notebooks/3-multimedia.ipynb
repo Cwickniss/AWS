{
 "cells": [
  {
   "cell_type": "code",
   "execution_count": 1,
   "metadata": {},
   "outputs": [],
   "source": [
    "from pathlib import Path\n",
    "from shutil import rmtree as delete\n",
    "from urllib.request import urlretrieve as download\n",
    "from gazpacho import get, Soup"
   ]
  },
  {
   "cell_type": "code",
   "execution_count": 2,
   "metadata": {},
   "outputs": [],
   "source": [
    "d = 'media'\n",
    "Path(d).mkdir(exist_ok=True)"
   ]
  },
  {
   "cell_type": "code",
   "execution_count": 3,
   "metadata": {},
   "outputs": [],
   "source": [
    "base = 'https://scrape.world'\n",
    "url = base + '/books'\n",
    "html = get(url)\n",
    "soup = Soup(html)"
   ]
  },
  {
   "cell_type": "code",
   "execution_count": 4,
   "metadata": {},
   "outputs": [],
   "source": [
    "# download images\n",
    "\n",
    "imgs = soup.find('img')\n",
    "srcs = [i.attrs['src'] for i in imgs]\n",
    "\n",
    "for src in srcs:\n",
    "    name = src.split('/')[-1]\n",
    "    download(base + src, f'{d}/{name}')"
   ]
  },
  {
   "cell_type": "code",
   "execution_count": 5,
   "metadata": {},
   "outputs": [
    {
     "data": {
      "text/plain": [
       "('media/orconomics.mp3', <http.client.HTTPMessage at 0x7fda4689f0d0>)"
      ]
     },
     "execution_count": 5,
     "metadata": {},
     "output_type": "execute_result"
    }
   ],
   "source": [
    "# download audio\n",
    "\n",
    "audio = soup.find('audio').find('source').attrs['src']\n",
    "name = audio.split('/')[-1]\n",
    "download(base + audio, f\"{d}/{name}\")"
   ]
  },
  {
   "cell_type": "code",
   "execution_count": 6,
   "metadata": {},
   "outputs": [
    {
     "data": {
      "text/plain": [
       "('media/early.mp4', <http.client.HTTPMessage at 0x7fda468c2070>)"
      ]
     },
     "execution_count": 6,
     "metadata": {},
     "output_type": "execute_result"
    }
   ],
   "source": [
    "# download video\n",
    "\n",
    "video = soup.find('video').find('source').attrs['src']\n",
    "name = video.split('/')[-1]\n",
    "download(base + video, f\"{d}/{name}\")"
   ]
  },
  {
   "cell_type": "code",
   "execution_count": 7,
   "metadata": {},
   "outputs": [],
   "source": [
    "# clean up\n",
    "\n",
    "delete(d)"
   ]
  }
 ],
 "metadata": {
  "kernelspec": {
   "display_name": "Python 3",
   "language": "python",
   "name": "python3"
  },
  "language_info": {
   "codemirror_mode": {
    "name": "ipython",
    "version": 3
   },
   "file_extension": ".py",
   "mimetype": "text/x-python",
   "name": "python",
   "nbconvert_exporter": "python",
   "pygments_lexer": "ipython3",
   "version": "3.8.3"
  }
 },
 "nbformat": 4,
 "nbformat_minor": 2
}
