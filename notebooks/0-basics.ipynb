{
 "cells": [
  {
   "cell_type": "code",
   "execution_count": 1,
   "metadata": {},
   "outputs": [],
   "source": [
    "from gazpacho import get, Soup"
   ]
  },
  {
   "cell_type": "code",
   "execution_count": 2,
   "metadata": {},
   "outputs": [],
   "source": [
    "url = \"https://scrape.world/soup\"\n",
    "html = get(url)\n",
    "soup = Soup(html)"
   ]
  },
  {
   "cell_type": "code",
   "execution_count": 3,
   "metadata": {},
   "outputs": [],
   "source": [
    "fos = soup.find('div', {'class': 'section-speech'})"
   ]
  },
  {
   "cell_type": "code",
   "execution_count": 4,
   "metadata": {},
   "outputs": [
    {
     "data": {
      "text/plain": [
       "[<a href=\"https://en.wikipedia.org/wiki/Alphabet_soup_(linguistics)\" title=\"Alphabet soup (linguistics)\">Alphabet soup</a>,\n",
       " <a href=\"https://en.wikipedia.org/wiki/Alphabet\" title=\"Alphabet\">alphabet</a>,\n",
       " <a href=\"https://en.wiktionary.org/wiki/from_soup_to_nuts\" class=\"extiw\" title=\"wikt:from soup to nuts\">From soup to nuts</a>,\n",
       " <a href=\"#cite_note-19\">[19]</a>,\n",
       " <a href=\"https://en.wikipedia.org/wiki/Abiogenesis\" title=\"Abiogenesis\">Primordial soup</a>,\n",
       " <a href=\"https://en.wikipedia.org/wiki/Soup_kitchen\" title=\"Soup kitchen\">Soup kitchen</a>,\n",
       " <a href=\"https://en.wikipedia.org/wiki/Stone_soup\" class=\"mw-redirect\" title=\"Stone soup\">Stone soup</a>,\n",
       " <a href=\"https://en.wikipedia.org/wiki/Souperism\" title=\"Souperism\">Souperism</a>,\n",
       " <a href=\"https://en.wikipedia.org/wiki/Great_Famine_(Ireland)\" title=\"Great Famine (Ireland)\">Irish Great\n",
       "                     Famine</a>,\n",
       " <a href=\"https://en.wikipedia.org/wiki/Tag_soup\" title=\"Tag soup\">Tag soup</a>,\n",
       " <a href=\"https://en.wikipedia.org/wiki/HTML\" title=\"HTML\">HTML</a>]"
      ]
     },
     "execution_count": 4,
     "metadata": {},
     "output_type": "execute_result"
    }
   ],
   "source": [
    "fos.find('a')"
   ]
  },
  {
   "cell_type": "code",
   "execution_count": 5,
   "metadata": {},
   "outputs": [],
   "source": [
    "one = fos.find(\"a\")[0]"
   ]
  },
  {
   "cell_type": "code",
   "execution_count": 6,
   "metadata": {},
   "outputs": [
    {
     "data": {
      "text/plain": [
       "<a href=\"https://en.wikipedia.org/wiki/Alphabet_soup_(linguistics)\" title=\"Alphabet soup (linguistics)\">Alphabet soup</a>"
      ]
     },
     "execution_count": 6,
     "metadata": {},
     "output_type": "execute_result"
    }
   ],
   "source": [
    "one"
   ]
  },
  {
   "cell_type": "code",
   "execution_count": 7,
   "metadata": {},
   "outputs": [
    {
     "data": {
      "text/plain": [
       "'https://en.wikipedia.org/wiki/Alphabet_soup_(linguistics)'"
      ]
     },
     "execution_count": 7,
     "metadata": {},
     "output_type": "execute_result"
    }
   ],
   "source": [
    "one.attrs[\"href\"]"
   ]
  },
  {
   "cell_type": "code",
   "execution_count": 8,
   "metadata": {},
   "outputs": [],
   "source": [
    "links = []\n",
    "for a in fos.find(\"a\"):\n",
    "    try:\n",
    "        link = a.attrs[\"href\"]\n",
    "        links.append(link)\n",
    "    except AttributeError:\n",
    "        pass\n",
    "\n",
    "links = [l for l in links if \"wikipedia.org\" in l]"
   ]
  },
  {
   "cell_type": "code",
   "execution_count": 9,
   "metadata": {},
   "outputs": [
    {
     "data": {
      "text/plain": [
       "['https://en.wikipedia.org/wiki/Alphabet_soup_(linguistics)',\n",
       " 'https://en.wikipedia.org/wiki/Alphabet',\n",
       " 'https://en.wikipedia.org/wiki/Abiogenesis',\n",
       " 'https://en.wikipedia.org/wiki/Soup_kitchen',\n",
       " 'https://en.wikipedia.org/wiki/Stone_soup',\n",
       " 'https://en.wikipedia.org/wiki/Souperism',\n",
       " 'https://en.wikipedia.org/wiki/Great_Famine_(Ireland)',\n",
       " 'https://en.wikipedia.org/wiki/Tag_soup',\n",
       " 'https://en.wikipedia.org/wiki/HTML']"
      ]
     },
     "execution_count": 9,
     "metadata": {},
     "output_type": "execute_result"
    }
   ],
   "source": [
    "links"
   ]
  }
 ],
 "metadata": {
  "kernelspec": {
   "display_name": "AWS.venv",
   "language": "python",
   "name": "aws.venv"
  },
  "language_info": {
   "codemirror_mode": {
    "name": "ipython",
    "version": 3
   },
   "file_extension": ".py",
   "mimetype": "text/x-python",
   "name": "python",
   "nbconvert_exporter": "python",
   "pygments_lexer": "ipython3",
   "version": "3.9.11"
  }
 },
 "nbformat": 4,
 "nbformat_minor": 2
}
