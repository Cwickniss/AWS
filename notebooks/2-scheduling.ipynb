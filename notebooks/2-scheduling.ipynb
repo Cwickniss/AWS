{
 "cells": [
  {
   "cell_type": "code",
   "execution_count": 1,
   "metadata": {},
   "outputs": [],
   "source": [
    "from gazpacho import get, Soup\n",
    "from slack_sdk import WebClient # pip install slack_sdk\n",
    "from slack_sdk.errors import SlackApiError\n",
    "from dotenv import load_dotenv, find_dotenv # pip install python-dotenv\n",
    "import os"
   ]
  },
  {
   "cell_type": "markdown",
   "metadata": {},
   "source": [
    "### Create a Slack app\n",
    "\n",
    "- To get started, create a new Slack App on [api.slack.com](https://api.slack.com/).\n",
    "  1. Type in your app name.\n",
    "  2. Select the workspace you'd like to build your app on.\n",
    "\n",
    "### Give your app permissions\n",
    "\n",
    "[Scopes](https://api.slack.com/scopes) give your app permission to do things (for example, post messages) in your development workspace.\n",
    "\n",
    "- Navigate to **OAuth & Permissions** on the sidebar to add scopes to your app\n",
    "- Scroll down to the **Bot Token Scopes** section and click **Add an OAuth Scope**.\n",
    "\n",
    "For now, we'll only use one scope.\n",
    "\n",
    "- Add the [`chat:write` scope](https://api.slack.com/scopes/chat:write) to grant your app the permission to post messages in channels it's a member of.\n",
    "- Add the [`im:write` scope](https://api.slack.com/scopes/im:write) to grant your app the permission to post messages in DMs.\n",
    "\n",
    "🎉 You should briefly see a success banner.\n",
    "\n",
    "### Install the app in your workspace\n",
    "\n",
    "- Scroll up to the top of the **OAuth & Permissions** pages and click the green \"Install App to Workspace\" button.\n",
    "\n",
    "Next you'll need to authorize the app for the Bot User permissions.\n",
    "\n",
    "- Click the \"Allow\" button.\n",
    "\n",
    "🏁 Finally copy and save your bot token. You'll need this to communicate with Slack's Platform.\n",
    "\n",
    "### Invite to channel\n",
    "\n",
    "⚠️ @ mention the bot name in the desired channel before trying to post with it!"
   ]
  },
  {
   "cell_type": "code",
   "execution_count": 2,
   "metadata": {},
   "outputs": [],
   "source": [
    "load_dotenv(find_dotenv())\n",
    "\n",
    "SLACK_API_TOKEN = os.environ.get(\"SLACK_API_TOKEN\")\n",
    "client = WebClient(token=SLACK_API_TOKEN)\n",
    "channel = '#web-scraping'"
   ]
  },
  {
   "cell_type": "code",
   "execution_count": 3,
   "metadata": {},
   "outputs": [],
   "source": [
    "try:\n",
    "    response = client.chat_postMessage(channel=channel, text=\"Hello world!\")\n",
    "    assert response[\"message\"][\"text\"] == \"Hello world!\"\n",
    "except SlackApiError as e:\n",
    "    # You will get a SlackApiError if \"ok\" is False\n",
    "    assert e.response[\"ok\"] is False\n",
    "    assert e.response[\"error\"]  # str like 'invalid_auth', 'channel_not_found'\n",
    "    print(f\"Got an error: {e.response['error']}\")"
   ]
  },
  {
   "cell_type": "code",
   "execution_count": 4,
   "metadata": {},
   "outputs": [],
   "source": [
    "def parse(book):\n",
    "    name = book.find('h4').text\n",
    "    price = float(book.find('p').text[1:].split(' ')[0])\n",
    "    return name, price\n",
    "\n",
    "def fetch_sale():\n",
    "    url = 'https://scrape.world/books'\n",
    "    html = get(url)\n",
    "    soup = Soup(html)\n",
    "    books_raw = soup.find('div', {'class': 'book-'})\n",
    "    books = [parse(book) for book in books_raw]\n",
    "    on_sale = [name for name, price in books if price == 0.99]\n",
    "    return '\\n'.join(on_sale)"
   ]
  },
  {
   "cell_type": "code",
   "execution_count": 5,
   "metadata": {},
   "outputs": [
    {
     "data": {
      "text/plain": [
       "'Orconomics'"
      ]
     },
     "execution_count": 5,
     "metadata": {},
     "output_type": "execute_result"
    }
   ],
   "source": [
    "fetch_sale()"
   ]
  },
  {
   "cell_type": "code",
   "execution_count": 6,
   "metadata": {},
   "outputs": [],
   "source": [
    "def post_to_channel():\n",
    "    on_sale = fetch_sale()\n",
    "    if on_sale:\n",
    "        text = f'These books are on sale:\\n{on_sale}\\n\\nBuy them now!'\n",
    "    else:\n",
    "        text = 'Nothing on sale :('\n",
    "    try:\n",
    "        response = client.chat_postMessage(channel='#web-scraping', text=text)\n",
    "    except SlackApiError as e:\n",
    "        assert e.response[\"ok\"] is False\n",
    "        assert e.response[\"error\"]  # str like 'invalid_auth', 'channel_not_found'\n",
    "        print(f\"Got an error: {e.response['error']}\")"
   ]
  },
  {
   "cell_type": "code",
   "execution_count": 7,
   "metadata": {},
   "outputs": [],
   "source": [
    "post_to_channel()"
   ]
  },
  {
   "cell_type": "code",
   "execution_count": 8,
   "metadata": {},
   "outputs": [],
   "source": [
    "import schedule # pip install schedule"
   ]
  },
  {
   "cell_type": "code",
   "execution_count": 9,
   "metadata": {},
   "outputs": [
    {
     "ename": "KeyboardInterrupt",
     "evalue": "",
     "output_type": "error",
     "traceback": [
      "\u001b[0;31m---------------------------------------------------------------------------\u001b[0m",
      "\u001b[0;31mKeyboardInterrupt\u001b[0m                         Traceback (most recent call last)",
      "Input \u001b[0;32mIn [9]\u001b[0m, in \u001b[0;36m<cell line: 2>\u001b[0;34m()\u001b[0m\n\u001b[1;32m      1\u001b[0m \u001b[38;5;28;01mwhile\u001b[39;00m \u001b[38;5;28;01mTrue\u001b[39;00m:\n\u001b[0;32m----> 2\u001b[0m     \u001b[43mschedule\u001b[49m\u001b[38;5;241;43m.\u001b[39;49m\u001b[43mevery\u001b[49m\u001b[43m(\u001b[49m\u001b[38;5;241;43m60\u001b[39;49m\u001b[43m)\u001b[49m\u001b[38;5;241;43m.\u001b[39;49m\u001b[43mseconds\u001b[49m\u001b[38;5;241;43m.\u001b[39;49m\u001b[43mdo\u001b[49m\u001b[43m(\u001b[49m\u001b[43mpost_to_channel\u001b[49m\u001b[43m)\u001b[49m\n",
      "File \u001b[0;32m~/Courses/AWS/.venv/lib/python3.9/site-packages/schedule/__init__.py:627\u001b[0m, in \u001b[0;36mJob.do\u001b[0;34m(self, job_func, *args, **kwargs)\u001b[0m\n\u001b[1;32m    625\u001b[0m \u001b[38;5;28mself\u001b[39m\u001b[38;5;241m.\u001b[39mjob_func \u001b[38;5;241m=\u001b[39m functools\u001b[38;5;241m.\u001b[39mpartial(job_func, \u001b[38;5;241m*\u001b[39margs, \u001b[38;5;241m*\u001b[39m\u001b[38;5;241m*\u001b[39mkwargs)\n\u001b[1;32m    626\u001b[0m functools\u001b[38;5;241m.\u001b[39mupdate_wrapper(\u001b[38;5;28mself\u001b[39m\u001b[38;5;241m.\u001b[39mjob_func, job_func)\n\u001b[0;32m--> 627\u001b[0m \u001b[38;5;28;43mself\u001b[39;49m\u001b[38;5;241;43m.\u001b[39;49m\u001b[43m_schedule_next_run\u001b[49m\u001b[43m(\u001b[49m\u001b[43m)\u001b[49m\n\u001b[1;32m    628\u001b[0m \u001b[38;5;28;01mif\u001b[39;00m \u001b[38;5;28mself\u001b[39m\u001b[38;5;241m.\u001b[39mscheduler \u001b[38;5;129;01mis\u001b[39;00m \u001b[38;5;28;01mNone\u001b[39;00m:\n\u001b[1;32m    629\u001b[0m     \u001b[38;5;28;01mraise\u001b[39;00m ScheduleError(\n\u001b[1;32m    630\u001b[0m         \u001b[38;5;124m\"\u001b[39m\u001b[38;5;124mUnable to a add job to schedule. \u001b[39m\u001b[38;5;124m\"\u001b[39m\n\u001b[1;32m    631\u001b[0m         \u001b[38;5;124m\"\u001b[39m\u001b[38;5;124mJob is not associated with an scheduler\u001b[39m\u001b[38;5;124m\"\u001b[39m\n\u001b[1;32m    632\u001b[0m     )\n",
      "File \u001b[0;32m~/Courses/AWS/.venv/lib/python3.9/site-packages/schedule/__init__.py:687\u001b[0m, in \u001b[0;36mJob._schedule_next_run\u001b[0;34m(self)\u001b[0m\n\u001b[1;32m    684\u001b[0m \u001b[38;5;28;01melse\u001b[39;00m:\n\u001b[1;32m    685\u001b[0m     interval \u001b[38;5;241m=\u001b[39m \u001b[38;5;28mself\u001b[39m\u001b[38;5;241m.\u001b[39minterval\n\u001b[0;32m--> 687\u001b[0m \u001b[38;5;28mself\u001b[39m\u001b[38;5;241m.\u001b[39mperiod \u001b[38;5;241m=\u001b[39m datetime\u001b[38;5;241m.\u001b[39mtimedelta(\u001b[38;5;241m*\u001b[39m\u001b[38;5;241m*\u001b[39m{\u001b[38;5;28mself\u001b[39m\u001b[38;5;241m.\u001b[39munit: interval})\n\u001b[1;32m    688\u001b[0m \u001b[38;5;28mself\u001b[39m\u001b[38;5;241m.\u001b[39mnext_run \u001b[38;5;241m=\u001b[39m datetime\u001b[38;5;241m.\u001b[39mdatetime\u001b[38;5;241m.\u001b[39mnow() \u001b[38;5;241m+\u001b[39m \u001b[38;5;28mself\u001b[39m\u001b[38;5;241m.\u001b[39mperiod\n\u001b[1;32m    689\u001b[0m \u001b[38;5;28;01mif\u001b[39;00m \u001b[38;5;28mself\u001b[39m\u001b[38;5;241m.\u001b[39mstart_day \u001b[38;5;129;01mis\u001b[39;00m \u001b[38;5;129;01mnot\u001b[39;00m \u001b[38;5;28;01mNone\u001b[39;00m:\n",
      "\u001b[0;31mKeyboardInterrupt\u001b[0m: "
     ]
    }
   ],
   "source": [
    "while True:\n",
    "    schedule.every(60).seconds.do(post_to_channel)\n",
    "    # schedule.every().day.at('8:00').do(post_to_channel)"
   ]
  }
 ],
 "metadata": {
  "kernelspec": {
   "display_name": "AWS.venv",
   "language": "python",
   "name": "aws.venv"
  },
  "language_info": {
   "codemirror_mode": {
    "name": "ipython",
    "version": 3
   },
   "file_extension": ".py",
   "mimetype": "text/x-python",
   "name": "python",
   "nbconvert_exporter": "python",
   "pygments_lexer": "ipython3",
   "version": "3.9.11"
  }
 },
 "nbformat": 4,
 "nbformat_minor": 2
}
