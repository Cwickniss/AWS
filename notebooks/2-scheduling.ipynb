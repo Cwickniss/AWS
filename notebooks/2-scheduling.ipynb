{
 "cells": [
  {
   "cell_type": "code",
   "execution_count": 1,
   "metadata": {},
   "outputs": [],
   "source": [
    "# https://support.google.com/accounts/answer/185833\n",
    "\n",
    "from email.message import EmailMessage\n",
    "from getpass import getpass\n",
    "import os\n",
    "import smtplib\n",
    "\n",
    "from gazpacho import get, Soup\n",
    "import schedule # pip install schedule"
   ]
  },
  {
   "cell_type": "code",
   "execution_count": 2,
   "metadata": {},
   "outputs": [
    {
     "name": "stdout",
     "output_type": "stream",
     "text": [
      "GMAIL_USER: ········\n"
     ]
    }
   ],
   "source": [
    "sender = getpass('GMAIL_USER: ')"
   ]
  },
  {
   "cell_type": "code",
   "execution_count": 3,
   "metadata": {},
   "outputs": [
    {
     "name": "stdout",
     "output_type": "stream",
     "text": [
      "GMAIL_PASSWORD: ········\n"
     ]
    }
   ],
   "source": [
    "password = getpass('GMAIL_PASSWORD: ')"
   ]
  },
  {
   "cell_type": "code",
   "execution_count": 4,
   "metadata": {},
   "outputs": [
    {
     "name": "stdout",
     "output_type": "stream",
     "text": [
      "RECIPIENT_EMAIL: ········\n"
     ]
    }
   ],
   "source": [
    "recipient = getpass('RECIPIENT_EMAIL: ')"
   ]
  },
  {
   "cell_type": "code",
   "execution_count": 5,
   "metadata": {},
   "outputs": [],
   "source": [
    "def parse(book):\n",
    "    name = book.find('h4').text\n",
    "    price = float(book.find('p').text[1:].split(' ')[0])\n",
    "    return name, price\n",
    "\n",
    "def fetch_sale():\n",
    "    url = 'https://scrape.world/books'\n",
    "    html = get(url)\n",
    "    soup = Soup(html)\n",
    "    books_raw = soup.find('div', {'class': 'book-'})\n",
    "    books = [parse(book) for book in books_raw]\n",
    "    on_sale = [name for name, price in books if price == 0.99]\n",
    "    return '\\n'.join(on_sale)"
   ]
  },
  {
   "cell_type": "code",
   "execution_count": 6,
   "metadata": {},
   "outputs": [
    {
     "data": {
      "text/plain": [
       "''"
      ]
     },
     "execution_count": 6,
     "metadata": {},
     "output_type": "execute_result"
    }
   ],
   "source": [
    "fetch_sale()"
   ]
  },
  {
   "cell_type": "code",
   "execution_count": 7,
   "metadata": {},
   "outputs": [],
   "source": [
    "def send_email(sender, password):\n",
    "    # fetch data\n",
    "    on_sale = fetch_sale()\n",
    "    if on_sale:\n",
    "        body = f'These books are on sale:\\n{on_sale}\\n\\nBuy them now!'\n",
    "    else:\n",
    "        body = 'Nothing on sale :('\n",
    "    # compose email\n",
    "    msg = EmailMessage()\n",
    "    msg.set_content(body)\n",
    "    msg['Subject'] = 'Books Bot'\n",
    "    msg['From'] = sender\n",
    "    msg['To'] = recipient\n",
    "    # send\n",
    "    server = smtplib.SMTP_SSL('smtp.gmail.com', 465)\n",
    "    server.login(sender, password)\n",
    "    server.send_message(msg)\n",
    "    server.quit()"
   ]
  },
  {
   "cell_type": "code",
   "execution_count": 8,
   "metadata": {},
   "outputs": [],
   "source": [
    "send_email(sender, password)"
   ]
  },
  {
   "cell_type": "code",
   "execution_count": null,
   "metadata": {},
   "outputs": [],
   "source": [
    "while True:\n",
    "    schedule.every(60).seconds.do(send_email, sender, password)\n",
    "    # schedule.every().day.at('8:00').do(send_email, sender, password)"
   ]
  }
 ],
 "metadata": {
  "kernelspec": {
   "display_name": "Python 3",
   "language": "python",
   "name": "python3"
  },
  "language_info": {
   "codemirror_mode": {
    "name": "ipython",
    "version": 3
   },
   "file_extension": ".py",
   "mimetype": "text/x-python",
   "name": "python",
   "nbconvert_exporter": "python",
   "pygments_lexer": "ipython3",
   "version": "3.8.3"
  }
 },
 "nbformat": 4,
 "nbformat_minor": 2
}
